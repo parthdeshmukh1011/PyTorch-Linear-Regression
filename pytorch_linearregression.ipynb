{
  "nbformat": 4,
  "nbformat_minor": 0,
  "metadata": {
    "colab": {
      "provenance": []
    },
    "kernelspec": {
      "name": "python3",
      "display_name": "Python 3"
    },
    "language_info": {
      "name": "python"
    }
  },
  "cells": [
    {
      "cell_type": "code",
      "execution_count": 289,
      "metadata": {
        "id": "7oUWmXHNEWeM"
      },
      "outputs": [],
      "source": [
        "import torch\n",
        "from torch import nn\n",
        "import matplotlib.pyplot as plt"
      ]
    },
    {
      "cell_type": "code",
      "source": [
        "torch.__version__"
      ],
      "metadata": {
        "colab": {
          "base_uri": "https://localhost:8080/",
          "height": 36
        },
        "id": "y0nGihymIwNd",
        "outputId": "c9e9c138-0cba-43af-ac1d-7b184993b450"
      },
      "execution_count": 290,
      "outputs": [
        {
          "output_type": "execute_result",
          "data": {
            "text/plain": [
              "'2.1.0+cu121'"
            ],
            "application/vnd.google.colaboratory.intrinsic+json": {
              "type": "string"
            }
          },
          "metadata": {},
          "execution_count": 290
        }
      ]
    },
    {
      "cell_type": "code",
      "source": [
        "weight = 0.7\n",
        "bias = 0.3\n",
        "x = torch.arange(0,1,0.02)\n",
        "y = bias + weight*x"
      ],
      "metadata": {
        "id": "WEjRoVmqEeSj"
      },
      "execution_count": 291,
      "outputs": []
    },
    {
      "cell_type": "code",
      "source": [
        "x"
      ],
      "metadata": {
        "colab": {
          "base_uri": "https://localhost:8080/"
        },
        "id": "9VxIPMp2EeqW",
        "outputId": "a582ad29-47f3-4063-fcb1-0ea1a35e8a27"
      },
      "execution_count": 292,
      "outputs": [
        {
          "output_type": "execute_result",
          "data": {
            "text/plain": [
              "tensor([0.0000, 0.0200, 0.0400, 0.0600, 0.0800, 0.1000, 0.1200, 0.1400, 0.1600,\n",
              "        0.1800, 0.2000, 0.2200, 0.2400, 0.2600, 0.2800, 0.3000, 0.3200, 0.3400,\n",
              "        0.3600, 0.3800, 0.4000, 0.4200, 0.4400, 0.4600, 0.4800, 0.5000, 0.5200,\n",
              "        0.5400, 0.5600, 0.5800, 0.6000, 0.6200, 0.6400, 0.6600, 0.6800, 0.7000,\n",
              "        0.7200, 0.7400, 0.7600, 0.7800, 0.8000, 0.8200, 0.8400, 0.8600, 0.8800,\n",
              "        0.9000, 0.9200, 0.9400, 0.9600, 0.9800])"
            ]
          },
          "metadata": {},
          "execution_count": 292
        }
      ]
    },
    {
      "cell_type": "code",
      "source": [
        "x.shape"
      ],
      "metadata": {
        "colab": {
          "base_uri": "https://localhost:8080/"
        },
        "id": "eUuhrEVyFWRj",
        "outputId": "1ab92118-df1e-4045-fda5-c12674e80305"
      },
      "execution_count": 293,
      "outputs": [
        {
          "output_type": "execute_result",
          "data": {
            "text/plain": [
              "torch.Size([50])"
            ]
          },
          "metadata": {},
          "execution_count": 293
        }
      ]
    },
    {
      "cell_type": "code",
      "source": [
        "y.shape"
      ],
      "metadata": {
        "colab": {
          "base_uri": "https://localhost:8080/"
        },
        "id": "4PXPAl9oEeso",
        "outputId": "28be0d47-a6f4-4050-a06a-c3c3180a542c"
      },
      "execution_count": 294,
      "outputs": [
        {
          "output_type": "execute_result",
          "data": {
            "text/plain": [
              "torch.Size([50])"
            ]
          },
          "metadata": {},
          "execution_count": 294
        }
      ]
    },
    {
      "cell_type": "code",
      "source": [
        "x[:10]"
      ],
      "metadata": {
        "colab": {
          "base_uri": "https://localhost:8080/"
        },
        "id": "psTAWmEwEeu5",
        "outputId": "814b5ada-719f-4b0c-82f7-55acebd8dc90"
      },
      "execution_count": 295,
      "outputs": [
        {
          "output_type": "execute_result",
          "data": {
            "text/plain": [
              "tensor([0.0000, 0.0200, 0.0400, 0.0600, 0.0800, 0.1000, 0.1200, 0.1400, 0.1600,\n",
              "        0.1800])"
            ]
          },
          "metadata": {},
          "execution_count": 295
        }
      ]
    },
    {
      "cell_type": "code",
      "source": [
        "y[:10]"
      ],
      "metadata": {
        "colab": {
          "base_uri": "https://localhost:8080/"
        },
        "id": "D0NzLhY2EexK",
        "outputId": "a2caa102-3c68-4f75-faee-7957568a6ce9"
      },
      "execution_count": 296,
      "outputs": [
        {
          "output_type": "execute_result",
          "data": {
            "text/plain": [
              "tensor([0.3000, 0.3140, 0.3280, 0.3420, 0.3560, 0.3700, 0.3840, 0.3980, 0.4120,\n",
              "        0.4260])"
            ]
          },
          "metadata": {},
          "execution_count": 296
        }
      ]
    },
    {
      "cell_type": "code",
      "source": [
        "x_train = x[:40]\n",
        "y_train = y[:40]\n",
        "x_test = x[40:]\n",
        "y_test=y[40:]"
      ],
      "metadata": {
        "id": "NCLYerUMEezZ"
      },
      "execution_count": 297,
      "outputs": []
    },
    {
      "cell_type": "code",
      "source": [
        "x_train.shape , y_train.shape , x_test.shape , y_test.shape"
      ],
      "metadata": {
        "colab": {
          "base_uri": "https://localhost:8080/"
        },
        "id": "OIwyD5y0Ee12",
        "outputId": "d8bb6e36-6c00-4b05-a78f-f58f1950b55c"
      },
      "execution_count": 298,
      "outputs": [
        {
          "output_type": "execute_result",
          "data": {
            "text/plain": [
              "(torch.Size([40]), torch.Size([40]), torch.Size([10]), torch.Size([10]))"
            ]
          },
          "metadata": {},
          "execution_count": 298
        }
      ]
    },
    {
      "cell_type": "code",
      "source": [
        "def plot_predictions(a = x_train , b = y_train , c1 = x_test , d = y_test , prediction =None):\n",
        "  plt.scatter(a,b,c='b')\n",
        "  plt.scatter(c1,d,c='g')\n",
        "\n",
        "  if prediction != None:\n",
        "    plt.scatter(c1 , prediction , c='r')"
      ],
      "metadata": {
        "id": "nQotbFPFEe5L"
      },
      "execution_count": 299,
      "outputs": []
    },
    {
      "cell_type": "code",
      "source": [
        "plot_predictions()"
      ],
      "metadata": {
        "colab": {
          "base_uri": "https://localhost:8080/",
          "height": 430
        },
        "id": "9mQNT6gCGXGP",
        "outputId": "18f455cc-49e9-4e5b-c23a-378852549a51"
      },
      "execution_count": 300,
      "outputs": [
        {
          "output_type": "display_data",
          "data": {
            "text/plain": [
              "<Figure size 640x480 with 1 Axes>"
            ],
            "image/png": "[encoded data removed]"
          },
          "metadata": {}
        }
      ]
    },
    {
      "cell_type": "code",
      "source": [
        "class LinearRegressionModel(nn.Module):\n",
        "  def __init__(self):\n",
        "    super().__init__()\n",
        "    torch.manual_seed(42)\n",
        "    self.weights = nn.Parameter(torch.randn(1,dtype = torch.float), requires_grad = True)\n",
        "    self.bias = nn.Parameter(torch.randn(1,dtype = torch.float), requires_grad = True)\n",
        "\n",
        "  def forward(self , x:torch.Tensor) -> torch.Tensor:\n",
        "    return self.bias + self.weights * x\n",
        "\n",
        "model0 = LinearRegressionModel()"
      ],
      "metadata": {
        "id": "Oejmee0SGaJf"
      },
      "execution_count": 301,
      "outputs": []
    },
    {
      "cell_type": "code",
      "source": [
        "list(model0.parameters())"
      ],
      "metadata": {
        "colab": {
          "base_uri": "https://localhost:8080/"
        },
        "id": "hsuV0KNrGbbk",
        "outputId": "4b834814-8d70-41d5-f014-d2a3478e4c98"
      },
      "execution_count": 302,
      "outputs": [
        {
          "output_type": "execute_result",
          "data": {
            "text/plain": [
              "[Parameter containing:\n",
              " tensor([0.3367], requires_grad=True),\n",
              " Parameter containing:\n",
              " tensor([0.1288], requires_grad=True)]"
            ]
          },
          "metadata": {},
          "execution_count": 302
        }
      ]
    },
    {
      "cell_type": "code",
      "source": [
        "model0.state_dict()"
      ],
      "metadata": {
        "colab": {
          "base_uri": "https://localhost:8080/"
        },
        "id": "sq5ZixzIGbdm",
        "outputId": "a06ef9e9-ba9c-4a80-c52b-889f66c98c71"
      },
      "execution_count": 303,
      "outputs": [
        {
          "output_type": "execute_result",
          "data": {
            "text/plain": [
              "OrderedDict([('weights', tensor([0.3367])), ('bias', tensor([0.1288]))])"
            ]
          },
          "metadata": {},
          "execution_count": 303
        }
      ]
    },
    {
      "cell_type": "code",
      "source": [
        "with torch.inference_mode():\n",
        "  y_pred = model0(x_test)\n",
        "\n",
        "y_pred"
      ],
      "metadata": {
        "colab": {
          "base_uri": "https://localhost:8080/"
        },
        "id": "Oy55mOCEGbfx",
        "outputId": "1ef4a6d9-f965-4859-9aa0-289ea0674cb7"
      },
      "execution_count": 304,
      "outputs": [
        {
          "output_type": "execute_result",
          "data": {
            "text/plain": [
              "tensor([0.3982, 0.4049, 0.4116, 0.4184, 0.4251, 0.4318, 0.4386, 0.4453, 0.4520,\n",
              "        0.4588])"
            ]
          },
          "metadata": {},
          "execution_count": 304
        }
      ]
    },
    {
      "cell_type": "code",
      "source": [
        "x_test.shape , y_pred.shape"
      ],
      "metadata": {
        "colab": {
          "base_uri": "https://localhost:8080/"
        },
        "id": "ZkjSbHp3GbjX",
        "outputId": "33b13772-d986-45cf-a144-180ab1d8c0c6"
      },
      "execution_count": 305,
      "outputs": [
        {
          "output_type": "execute_result",
          "data": {
            "text/plain": [
              "(torch.Size([10]), torch.Size([10]))"
            ]
          },
          "metadata": {},
          "execution_count": 305
        }
      ]
    },
    {
      "cell_type": "code",
      "source": [
        "plot_predictions(prediction=y_pred)"
      ],
      "metadata": {
        "colab": {
          "base_uri": "https://localhost:8080/",
          "height": 430
        },
        "id": "wq1MuY0lIdsa",
        "outputId": "420fb5db-1b56-4794-fe03-e8821b95b262"
      },
      "execution_count": 306,
      "outputs": [
        {
          "output_type": "display_data",
          "data": {
            "text/plain": [
              "<Figure size 640x480 with 1 Axes>"
            ],
            "image/png": "[encoded data removed]"
          },
          "metadata": {}
        }
      ]
    },
    {
      "cell_type": "code",
      "source": [
        "lossfn = nn.L1Loss() #absolute loss\n",
        "optimiser = torch.optim.SGD(params=model0.parameters(),lr=0.01)"
      ],
      "metadata": {
        "id": "2XjzCwcpJV0K"
      },
      "execution_count": 307,
      "outputs": []
    },
    {
      "cell_type": "code",
      "source": [
        "epoch = 200\n",
        "\n",
        "for i in range(epoch):\n",
        "    model0.train()\n",
        "\n",
        "    y_pred = model0(x_train)\n",
        "\n",
        "    loss = lossfn(y_pred, y_train)\n",
        "\n",
        "    optimiser.zero_grad()\n",
        "\n",
        "    loss.backward()\n",
        "\n",
        "    optimiser.step()\n",
        "\n",
        "\n",
        "    model0.eval()\n",
        "\n",
        "    with torch.inference_mode():\n",
        "      test_pred = model0(x_test)\n",
        "\n",
        "      testloss = lossfn(test_pred, y_test)\n",
        "\n",
        "      if epoch % 10 == 0:\n",
        "            print(f\"Epoch: {i} | MAE Train Loss: {loss} | MAE Test Loss: {testloss} \")"
      ],
      "metadata": {
        "colab": {
          "base_uri": "https://localhost:8080/"
        },
        "id": "zxAWfDtYJ1Ay",
        "outputId": "d18c4125-07d1-4751-a83c-c3ac5f1f2141"
      },
      "execution_count": 308,
      "outputs": [
        {
          "output_type": "stream",
          "name": "stdout",
          "text": [
            "Epoch: 0 | MAE Train Loss: 0.31288138031959534 | MAE Test Loss: 0.48106518387794495 \n",
            "Epoch: 1 | MAE Train Loss: 0.3013603389263153 | MAE Test Loss: 0.4675942063331604 \n",
            "Epoch: 2 | MAE Train Loss: 0.28983935713768005 | MAE Test Loss: 0.4541231691837311 \n",
            "Epoch: 3 | MAE Train Loss: 0.2783183455467224 | MAE Test Loss: 0.44065219163894653 \n",
            "Epoch: 4 | MAE Train Loss: 0.26679736375808716 | MAE Test Loss: 0.4271811842918396 \n",
            "Epoch: 5 | MAE Train Loss: 0.2552763521671295 | MAE Test Loss: 0.41371020674705505 \n",
            "Epoch: 6 | MAE Train Loss: 0.24375534057617188 | MAE Test Loss: 0.40023916959762573 \n",
            "Epoch: 7 | MAE Train Loss: 0.23223432898521423 | MAE Test Loss: 0.3867681920528412 \n",
            "Epoch: 8 | MAE Train Loss: 0.22071333229541779 | MAE Test Loss: 0.37329721450805664 \n",
            "Epoch: 9 | MAE Train Loss: 0.20919232070446014 | MAE Test Loss: 0.3598262071609497 \n",
            "Epoch: 10 | MAE Train Loss: 0.1976713240146637 | MAE Test Loss: 0.3463551998138428 \n",
            "Epoch: 11 | MAE Train Loss: 0.18615034222602844 | MAE Test Loss: 0.3328842222690582 \n",
            "Epoch: 12 | MAE Train Loss: 0.1746293306350708 | MAE Test Loss: 0.3194132149219513 \n",
            "Epoch: 13 | MAE Train Loss: 0.16310831904411316 | MAE Test Loss: 0.30594223737716675 \n",
            "Epoch: 14 | MAE Train Loss: 0.1515873372554779 | MAE Test Loss: 0.2924712300300598 \n",
            "Epoch: 15 | MAE Train Loss: 0.14006635546684265 | MAE Test Loss: 0.27900025248527527 \n",
            "Epoch: 16 | MAE Train Loss: 0.1285453587770462 | MAE Test Loss: 0.2655292749404907 \n",
            "Epoch: 17 | MAE Train Loss: 0.11702437698841095 | MAE Test Loss: 0.2520582973957062 \n",
            "Epoch: 18 | MAE Train Loss: 0.1060912236571312 | MAE Test Loss: 0.2395961582660675 \n",
            "Epoch: 19 | MAE Train Loss: 0.09681284427642822 | MAE Test Loss: 0.22817862033843994 \n",
            "Epoch: 20 | MAE Train Loss: 0.08908725529909134 | MAE Test Loss: 0.21729660034179688 \n",
            "Epoch: 21 | MAE Train Loss: 0.08227583020925522 | MAE Test Loss: 0.2069590985774994 \n",
            "Epoch: 22 | MAE Train Loss: 0.07638873159885406 | MAE Test Loss: 0.19773726165294647 \n",
            "Epoch: 23 | MAE Train Loss: 0.07160007208585739 | MAE Test Loss: 0.1890866756439209 \n",
            "Epoch: 24 | MAE Train Loss: 0.06747635453939438 | MAE Test Loss: 0.18101617693901062 \n",
            "Epoch: 25 | MAE Train Loss: 0.06395438313484192 | MAE Test Loss: 0.17353470623493195 \n",
            "Epoch: 26 | MAE Train Loss: 0.06097004935145378 | MAE Test Loss: 0.16665108501911163 \n",
            "Epoch: 27 | MAE Train Loss: 0.05845819041132927 | MAE Test Loss: 0.16037428379058838 \n",
            "Epoch: 28 | MAE Train Loss: 0.05635259300470352 | MAE Test Loss: 0.15471318364143372 \n",
            "Epoch: 29 | MAE Train Loss: 0.0545857772231102 | MAE Test Loss: 0.14967669546604156 \n",
            "Epoch: 30 | MAE Train Loss: 0.053148526698350906 | MAE Test Loss: 0.14464017748832703 \n",
            "Epoch: 31 | MAE Train Loss: 0.05181945487856865 | MAE Test Loss: 0.14023718237876892 \n",
            "Epoch: 32 | MAE Train Loss: 0.05069301277399063 | MAE Test Loss: 0.13647659122943878 \n",
            "Epoch: 33 | MAE Train Loss: 0.0498228520154953 | MAE Test Loss: 0.13271598517894745 \n",
            "Epoch: 34 | MAE Train Loss: 0.04895269125699997 | MAE Test Loss: 0.12895536422729492 \n",
            "Epoch: 35 | MAE Train Loss: 0.04819351062178612 | MAE Test Loss: 0.12584610283374786 \n",
            "Epoch: 36 | MAE Train Loss: 0.047531817108392715 | MAE Test Loss: 0.12273679673671722 \n",
            "Epoch: 37 | MAE Train Loss: 0.04692792519927025 | MAE Test Loss: 0.1202877014875412 \n",
            "Epoch: 38 | MAE Train Loss: 0.04642331600189209 | MAE Test Loss: 0.11783860623836517 \n",
            "Epoch: 39 | MAE Train Loss: 0.04591871052980423 | MAE Test Loss: 0.11538954079151154 \n",
            "Epoch: 40 | MAE Train Loss: 0.04543796554207802 | MAE Test Loss: 0.11360953003168106 \n",
            "Epoch: 41 | MAE Train Loss: 0.04503796249628067 | MAE Test Loss: 0.11182951927185059 \n",
            "Epoch: 42 | MAE Train Loss: 0.04463795945048332 | MAE Test Loss: 0.1100495308637619 \n",
            "Epoch: 43 | MAE Train Loss: 0.04423796385526657 | MAE Test Loss: 0.10826952755451202 \n",
            "Epoch: 44 | MAE Train Loss: 0.04383796453475952 | MAE Test Loss: 0.10648951679468155 \n",
            "Epoch: 45 | MAE Train Loss: 0.04343796148896217 | MAE Test Loss: 0.10470950603485107 \n",
            "Epoch: 46 | MAE Train Loss: 0.043074630200862885 | MAE Test Loss: 0.10360751301050186 \n",
            "Epoch: 47 | MAE Train Loss: 0.04272563382983208 | MAE Test Loss: 0.10250549018383026 \n",
            "Epoch: 48 | MAE Train Loss: 0.04237663000822067 | MAE Test Loss: 0.10140349715948105 \n",
            "Epoch: 49 | MAE Train Loss: 0.04202762991189957 | MAE Test Loss: 0.10030148178339005 \n",
            "Epoch: 50 | MAE Train Loss: 0.04167863354086876 | MAE Test Loss: 0.09919948130846024 \n",
            "Epoch: 51 | MAE Train Loss: 0.04132963344454765 | MAE Test Loss: 0.09809747338294983 \n",
            "Epoch: 52 | MAE Train Loss: 0.04098063334822655 | MAE Test Loss: 0.09699545800685883 \n",
            "Epoch: 53 | MAE Train Loss: 0.04063162952661514 | MAE Test Loss: 0.09589345753192902 \n",
            "Epoch: 54 | MAE Train Loss: 0.040282636880874634 | MAE Test Loss: 0.0947914719581604 \n",
            "Epoch: 55 | MAE Train Loss: 0.039933640509843826 | MAE Test Loss: 0.09368947893381119 \n",
            "Epoch: 56 | MAE Train Loss: 0.03958464413881302 | MAE Test Loss: 0.09258746355772018 \n",
            "Epoch: 57 | MAE Train Loss: 0.03923564404249191 | MAE Test Loss: 0.09148545563220978 \n",
            "Epoch: 58 | MAE Train Loss: 0.03888664394617081 | MAE Test Loss: 0.09038344770669937 \n",
            "Epoch: 59 | MAE Train Loss: 0.0385376438498497 | MAE Test Loss: 0.08928143978118896 \n",
            "Epoch: 60 | MAE Train Loss: 0.03818932920694351 | MAE Test Loss: 0.08886633068323135 \n",
            "Epoch: 61 | MAE Train Loss: 0.03785243630409241 | MAE Test Loss: 0.08776430785655975 \n",
            "Epoch: 62 | MAE Train Loss: 0.0375034399330616 | MAE Test Loss: 0.08666229248046875 \n",
            "Epoch: 63 | MAE Train Loss: 0.037164121866226196 | MAE Test Loss: 0.08624717593193054 \n",
            "Epoch: 64 | MAE Train Loss: 0.03681822493672371 | MAE Test Loss: 0.08514519035816193 \n",
            "Epoch: 65 | MAE Train Loss: 0.03647511452436447 | MAE Test Loss: 0.08473004400730133 \n",
            "Epoch: 66 | MAE Train Loss: 0.03613303601741791 | MAE Test Loss: 0.08362803608179092 \n",
            "Epoch: 67 | MAE Train Loss: 0.03578609973192215 | MAE Test Loss: 0.08321291208267212 \n",
            "Epoch: 68 | MAE Train Loss: 0.03544783592224121 | MAE Test Loss: 0.08211090415716171 \n",
            "Epoch: 69 | MAE Train Loss: 0.035098835825920105 | MAE Test Loss: 0.0810088962316513 \n",
            "Epoch: 70 | MAE Train Loss: 0.03476089984178543 | MAE Test Loss: 0.0805937647819519 \n",
            "Epoch: 71 | MAE Train Loss: 0.03441363573074341 | MAE Test Loss: 0.0794917643070221 \n",
            "Epoch: 72 | MAE Train Loss: 0.03407188132405281 | MAE Test Loss: 0.07907666265964508 \n",
            "Epoch: 73 | MAE Train Loss: 0.03372843936085701 | MAE Test Loss: 0.07797462493181229 \n",
            "Epoch: 74 | MAE Train Loss: 0.03338287025690079 | MAE Test Loss: 0.07755951583385468 \n",
            "Epoch: 75 | MAE Train Loss: 0.033043231815099716 | MAE Test Loss: 0.07645749300718307 \n",
            "Epoch: 76 | MAE Train Loss: 0.03269423171877861 | MAE Test Loss: 0.07535548508167267 \n",
            "Epoch: 77 | MAE Train Loss: 0.032357655465602875 | MAE Test Loss: 0.07494036853313446 \n",
            "Epoch: 78 | MAE Train Loss: 0.03200903534889221 | MAE Test Loss: 0.07383836805820465 \n",
            "Epoch: 79 | MAE Train Loss: 0.03166864812374115 | MAE Test Loss: 0.07342323660850525 \n",
            "Epoch: 80 | MAE Train Loss: 0.03132382780313492 | MAE Test Loss: 0.07232122868299484 \n",
            "Epoch: 81 | MAE Train Loss: 0.030979642644524574 | MAE Test Loss: 0.07190609723329544 \n",
            "Epoch: 82 | MAE Train Loss: 0.030638623982667923 | MAE Test Loss: 0.07080408930778503 \n",
            "Epoch: 83 | MAE Train Loss: 0.0302906334400177 | MAE Test Loss: 0.07038896530866623 \n",
            "Epoch: 84 | MAE Train Loss: 0.029953425750136375 | MAE Test Loss: 0.06928696483373642 \n",
            "Epoch: 85 | MAE Train Loss: 0.02960442565381527 | MAE Test Loss: 0.06818496435880661 \n",
            "Epoch: 86 | MAE Train Loss: 0.029265418648719788 | MAE Test Loss: 0.0677698403596878 \n",
            "Epoch: 87 | MAE Train Loss: 0.028919223695993423 | MAE Test Loss: 0.0666678324341774 \n",
            "Epoch: 88 | MAE Train Loss: 0.028576409444212914 | MAE Test Loss: 0.066252700984478 \n",
            "Epoch: 89 | MAE Train Loss: 0.028234025463461876 | MAE Test Loss: 0.06515069305896759 \n",
            "Epoch: 90 | MAE Train Loss: 0.02788739837706089 | MAE Test Loss: 0.06473556160926819 \n",
            "Epoch: 91 | MAE Train Loss: 0.02754882536828518 | MAE Test Loss: 0.06363357603549957 \n",
            "Epoch: 92 | MAE Train Loss: 0.027199819684028625 | MAE Test Loss: 0.06253156810998917 \n",
            "Epoch: 93 | MAE Train Loss: 0.026862185448408127 | MAE Test Loss: 0.062116436660289764 \n",
            "Epoch: 94 | MAE Train Loss: 0.02651461586356163 | MAE Test Loss: 0.061014432460069656 \n",
            "Epoch: 95 | MAE Train Loss: 0.026173178106546402 | MAE Test Loss: 0.06059930846095085 \n",
            "Epoch: 96 | MAE Train Loss: 0.025829419493675232 | MAE Test Loss: 0.05949730426073074 \n",
            "Epoch: 97 | MAE Train Loss: 0.02548416517674923 | MAE Test Loss: 0.05908216908574104 \n",
            "Epoch: 98 | MAE Train Loss: 0.025144213810563087 | MAE Test Loss: 0.057980168610811234 \n",
            "Epoch: 99 | MAE Train Loss: 0.02479521557688713 | MAE Test Loss: 0.05687814950942993 \n",
            "Epoch: 100 | MAE Train Loss: 0.024458957836031914 | MAE Test Loss: 0.05646304413676262 \n",
            "Epoch: 101 | MAE Train Loss: 0.024110013619065285 | MAE Test Loss: 0.05536102131009102 \n",
            "Epoch: 102 | MAE Train Loss: 0.02376994863152504 | MAE Test Loss: 0.05494590476155281 \n",
            "Epoch: 103 | MAE Train Loss: 0.02342480979859829 | MAE Test Loss: 0.05384388566017151 \n",
            "Epoch: 104 | MAE Train Loss: 0.023080935701727867 | MAE Test Loss: 0.0534287691116333 \n",
            "Epoch: 105 | MAE Train Loss: 0.022739607840776443 | MAE Test Loss: 0.052326757460832596 \n",
            "Epoch: 106 | MAE Train Loss: 0.022391926497220993 | MAE Test Loss: 0.05191164091229439 \n",
            "Epoch: 107 | MAE Train Loss: 0.022054409608244896 | MAE Test Loss: 0.05080962926149368 \n",
            "Epoch: 108 | MAE Train Loss: 0.02170540764927864 | MAE Test Loss: 0.049707621335983276 \n",
            "Epoch: 109 | MAE Train Loss: 0.021366719156503677 | MAE Test Loss: 0.04929249361157417 \n",
            "Epoch: 110 | MAE Train Loss: 0.021020207554101944 | MAE Test Loss: 0.04819049686193466 \n",
            "Epoch: 111 | MAE Train Loss: 0.020677709951996803 | MAE Test Loss: 0.04777535796165466 \n",
            "Epoch: 112 | MAE Train Loss: 0.02033500373363495 | MAE Test Loss: 0.046673357486724854 \n",
            "Epoch: 113 | MAE Train Loss: 0.01998869702219963 | MAE Test Loss: 0.04625822976231575 \n",
            "Epoch: 114 | MAE Train Loss: 0.019649803638458252 | MAE Test Loss: 0.045156221836805344 \n",
            "Epoch: 115 | MAE Train Loss: 0.019300809130072594 | MAE Test Loss: 0.04405422881245613 \n",
            "Epoch: 116 | MAE Train Loss: 0.018963487818837166 | MAE Test Loss: 0.04363910108804703 \n",
            "Epoch: 117 | MAE Train Loss: 0.01861560344696045 | MAE Test Loss: 0.04253707453608513 \n",
            "Epoch: 118 | MAE Train Loss: 0.018274478614330292 | MAE Test Loss: 0.042121969163417816 \n",
            "Epoch: 119 | MAE Train Loss: 0.017930403351783752 | MAE Test Loss: 0.04101995751261711 \n",
            "Epoch: 120 | MAE Train Loss: 0.01758546568453312 | MAE Test Loss: 0.04060482233762741 \n",
            "Epoch: 121 | MAE Train Loss: 0.017245199531316757 | MAE Test Loss: 0.0395028181374073 \n",
            "Epoch: 122 | MAE Train Loss: 0.016896454617381096 | MAE Test Loss: 0.0390876941382885 \n",
            "Epoch: 123 | MAE Train Loss: 0.01656000316143036 | MAE Test Loss: 0.037985701113939285 \n",
            "Epoch: 124 | MAE Train Loss: 0.016210997477173805 | MAE Test Loss: 0.03688368946313858 \n",
            "Epoch: 125 | MAE Train Loss: 0.01587124727666378 | MAE Test Loss: 0.036468543112277985 \n",
            "Epoch: 126 | MAE Train Loss: 0.015525798313319683 | MAE Test Loss: 0.035366542637348175 \n",
            "Epoch: 127 | MAE Train Loss: 0.015182236209511757 | MAE Test Loss: 0.034951429814100266 \n",
            "Epoch: 128 | MAE Train Loss: 0.014840595424175262 | MAE Test Loss: 0.03384942561388016 \n",
            "Epoch: 129 | MAE Train Loss: 0.01449323259294033 | MAE Test Loss: 0.03343429043889046 \n",
            "Epoch: 130 | MAE Train Loss: 0.014155393466353416 | MAE Test Loss: 0.03233227878808975 \n",
            "Epoch: 131 | MAE Train Loss: 0.013806397095322609 | MAE Test Loss: 0.031230276450514793 \n",
            "Epoch: 132 | MAE Train Loss: 0.013468016870319843 | MAE Test Loss: 0.030815154314041138 \n",
            "Epoch: 133 | MAE Train Loss: 0.013121193274855614 | MAE Test Loss: 0.02971314825117588 \n",
            "Epoch: 134 | MAE Train Loss: 0.01277900766581297 | MAE Test Loss: 0.02929801307618618 \n",
            "Epoch: 135 | MAE Train Loss: 0.012435992248356342 | MAE Test Loss: 0.028196018189191818 \n",
            "Epoch: 136 | MAE Train Loss: 0.01208999752998352 | MAE Test Loss: 0.027780896052718163 \n",
            "Epoch: 137 | MAE Train Loss: 0.011750795878469944 | MAE Test Loss: 0.026678884401917458 \n",
            "Epoch: 138 | MAE Train Loss: 0.011401787400245667 | MAE Test Loss: 0.025576870888471603 \n",
            "Epoch: 139 | MAE Train Loss: 0.011064787395298481 | MAE Test Loss: 0.025161748751997948 \n",
            "Epoch: 140 | MAE Train Loss: 0.010716589167714119 | MAE Test Loss: 0.024059748277068138 \n",
            "Epoch: 141 | MAE Train Loss: 0.010375778190791607 | MAE Test Loss: 0.023644620552659035 \n",
            "Epoch: 142 | MAE Train Loss: 0.010031387209892273 | MAE Test Loss: 0.022542614489793777 \n",
            "Epoch: 143 | MAE Train Loss: 0.009686763398349285 | MAE Test Loss: 0.022127490490674973 \n",
            "Epoch: 144 | MAE Train Loss: 0.009346187114715576 | MAE Test Loss: 0.021025484427809715 \n",
            "Epoch: 145 | MAE Train Loss: 0.008997755125164986 | MAE Test Loss: 0.020610356703400612 \n",
            "Epoch: 146 | MAE Train Loss: 0.008660981431603432 | MAE Test Loss: 0.019508343189954758 \n",
            "Epoch: 147 | MAE Train Loss: 0.008311985060572624 | MAE Test Loss: 0.018406350165605545 \n",
            "Epoch: 148 | MAE Train Loss: 0.007972544990479946 | MAE Test Loss: 0.017991220578551292 \n",
            "Epoch: 149 | MAE Train Loss: 0.007626785431057215 | MAE Test Loss: 0.016889220103621483 \n",
            "Epoch: 150 | MAE Train Loss: 0.0072835334576666355 | MAE Test Loss: 0.016474086791276932 \n",
            "Epoch: 151 | MAE Train Loss: 0.006941580679267645 | MAE Test Loss: 0.0153720797970891 \n",
            "Epoch: 152 | MAE Train Loss: 0.006594526115804911 | MAE Test Loss: 0.01495695672929287 \n",
            "Epoch: 153 | MAE Train Loss: 0.006256377790123224 | MAE Test Loss: 0.013854950666427612 \n",
            "Epoch: 154 | MAE Train Loss: 0.005907376762479544 | MAE Test Loss: 0.012752944603562355 \n",
            "Epoch: 155 | MAE Train Loss: 0.005569315515458584 | MAE Test Loss: 0.012337815947830677 \n",
            "Epoch: 156 | MAE Train Loss: 0.005222178064286709 | MAE Test Loss: 0.011235815472900867 \n",
            "Epoch: 157 | MAE Train Loss: 0.004880306776612997 | MAE Test Loss: 0.010820692405104637 \n",
            "Epoch: 158 | MAE Train Loss: 0.004536976106464863 | MAE Test Loss: 0.009718680754303932 \n",
            "Epoch: 159 | MAE Train Loss: 0.00419129803776741 | MAE Test Loss: 0.009303552098572254 \n",
            "Epoch: 160 | MAE Train Loss: 0.0038517764769494534 | MAE Test Loss: 0.008201557211577892 \n",
            "Epoch: 161 | MAE Train Loss: 0.0035027749836444855 | MAE Test Loss: 0.007099539041519165 \n",
            "Epoch: 162 | MAE Train Loss: 0.0031660839449614286 | MAE Test Loss: 0.006684416439384222 \n",
            "Epoch: 163 | MAE Train Loss: 0.002817571861669421 | MAE Test Loss: 0.0055824099108576775 \n",
            "Epoch: 164 | MAE Train Loss: 0.0024770735763013363 | MAE Test Loss: 0.005167287774384022 \n",
            "Epoch: 165 | MAE Train Loss: 0.0021323717664927244 | MAE Test Loss: 0.004065275192260742 \n",
            "Epoch: 166 | MAE Train Loss: 0.0017880648374557495 | MAE Test Loss: 0.003650152590125799 \n",
            "Epoch: 167 | MAE Train Loss: 0.0014518328243866563 | MAE Test Loss: 0.0018701612716540694 \n",
            "Epoch: 168 | MAE Train Loss: 0.0011887758737429976 | MAE Test Loss: 0.005023092031478882 \n",
            "Epoch: 169 | MAE Train Loss: 0.0025885067880153656 | MAE Test Loss: 0.008447891101241112 \n",
            "Epoch: 170 | MAE Train Loss: 0.008932482451200485 | MAE Test Loss: 0.005023092031478882 \n",
            "Epoch: 171 | MAE Train Loss: 0.0025885067880153656 | MAE Test Loss: 0.008447891101241112 \n",
            "Epoch: 172 | MAE Train Loss: 0.008932482451200485 | MAE Test Loss: 0.005023092031478882 \n",
            "Epoch: 173 | MAE Train Loss: 0.0025885067880153656 | MAE Test Loss: 0.008447891101241112 \n",
            "Epoch: 174 | MAE Train Loss: 0.008932482451200485 | MAE Test Loss: 0.005023092031478882 \n",
            "Epoch: 175 | MAE Train Loss: 0.0025885067880153656 | MAE Test Loss: 0.008447891101241112 \n",
            "Epoch: 176 | MAE Train Loss: 0.008932482451200485 | MAE Test Loss: 0.005023092031478882 \n",
            "Epoch: 177 | MAE Train Loss: 0.0025885067880153656 | MAE Test Loss: 0.008447891101241112 \n",
            "Epoch: 178 | MAE Train Loss: 0.008932482451200485 | MAE Test Loss: 0.005023092031478882 \n",
            "Epoch: 179 | MAE Train Loss: 0.0025885067880153656 | MAE Test Loss: 0.008447891101241112 \n",
            "Epoch: 180 | MAE Train Loss: 0.008932482451200485 | MAE Test Loss: 0.005023092031478882 \n",
            "Epoch: 181 | MAE Train Loss: 0.0025885067880153656 | MAE Test Loss: 0.008447891101241112 \n",
            "Epoch: 182 | MAE Train Loss: 0.008932482451200485 | MAE Test Loss: 0.005023092031478882 \n",
            "Epoch: 183 | MAE Train Loss: 0.0025885067880153656 | MAE Test Loss: 0.008447891101241112 \n",
            "Epoch: 184 | MAE Train Loss: 0.008932482451200485 | MAE Test Loss: 0.005023092031478882 \n",
            "Epoch: 185 | MAE Train Loss: 0.0025885067880153656 | MAE Test Loss: 0.008447891101241112 \n",
            "Epoch: 186 | MAE Train Loss: 0.008932482451200485 | MAE Test Loss: 0.005023092031478882 \n",
            "Epoch: 187 | MAE Train Loss: 0.0025885067880153656 | MAE Test Loss: 0.008447891101241112 \n",
            "Epoch: 188 | MAE Train Loss: 0.008932482451200485 | MAE Test Loss: 0.005023092031478882 \n",
            "Epoch: 189 | MAE Train Loss: 0.0025885067880153656 | MAE Test Loss: 0.008447891101241112 \n",
            "Epoch: 190 | MAE Train Loss: 0.008932482451200485 | MAE Test Loss: 0.005023092031478882 \n",
            "Epoch: 191 | MAE Train Loss: 0.0025885067880153656 | MAE Test Loss: 0.008447891101241112 \n",
            "Epoch: 192 | MAE Train Loss: 0.008932482451200485 | MAE Test Loss: 0.005023092031478882 \n",
            "Epoch: 193 | MAE Train Loss: 0.0025885067880153656 | MAE Test Loss: 0.008447891101241112 \n",
            "Epoch: 194 | MAE Train Loss: 0.008932482451200485 | MAE Test Loss: 0.005023092031478882 \n",
            "Epoch: 195 | MAE Train Loss: 0.0025885067880153656 | MAE Test Loss: 0.008447891101241112 \n",
            "Epoch: 196 | MAE Train Loss: 0.008932482451200485 | MAE Test Loss: 0.005023092031478882 \n",
            "Epoch: 197 | MAE Train Loss: 0.0025885067880153656 | MAE Test Loss: 0.008447891101241112 \n",
            "Epoch: 198 | MAE Train Loss: 0.008932482451200485 | MAE Test Loss: 0.005023092031478882 \n",
            "Epoch: 199 | MAE Train Loss: 0.0025885067880153656 | MAE Test Loss: 0.008447891101241112 \n"
          ]
        }
      ]
    },
    {
      "cell_type": "code",
      "source": [
        "model0.state_dict()"
      ],
      "metadata": {
        "colab": {
          "base_uri": "https://localhost:8080/"
        },
        "id": "rnjtwM_XJ1Cu",
        "outputId": "bcd237ef-2e27-4db2-96c6-c2f32a8b9d8c"
      },
      "execution_count": 309,
      "outputs": [
        {
          "output_type": "execute_result",
          "data": {
            "text/plain": [
              "OrderedDict([('weights', tensor([0.6990])), ('bias', tensor([0.3093]))])"
            ]
          },
          "metadata": {},
          "execution_count": 309
        }
      ]
    },
    {
      "cell_type": "code",
      "source": [
        "test_pred , y_test"
      ],
      "metadata": {
        "colab": {
          "base_uri": "https://localhost:8080/"
        },
        "id": "CRbBNKmJJ1FN",
        "outputId": "b8dbfdc4-dc64-48b2-8b8b-e7c1d0571403"
      },
      "execution_count": 310,
      "outputs": [
        {
          "output_type": "execute_result",
          "data": {
            "text/plain": [
              "(tensor([0.8685, 0.8825, 0.8965, 0.9105, 0.9245, 0.9384, 0.9524, 0.9664, 0.9804,\n",
              "         0.9944]),\n",
              " tensor([0.8600, 0.8740, 0.8880, 0.9020, 0.9160, 0.9300, 0.9440, 0.9580, 0.9720,\n",
              "         0.9860]))"
            ]
          },
          "metadata": {},
          "execution_count": 310
        }
      ]
    },
    {
      "cell_type": "code",
      "source": [
        "plot_predictions(prediction=test_pred)"
      ],
      "metadata": {
        "colab": {
          "base_uri": "https://localhost:8080/",
          "height": 430
        },
        "id": "iE-ugxNCJ1G9",
        "outputId": "1c273a4d-7740-4427-9a4e-74b7bcdd43f8"
      },
      "execution_count": 311,
      "outputs": [
        {
          "output_type": "display_data",
          "data": {
            "text/plain": [
              "<Figure size 640x480 with 1 Axes>"
            ],
            "image/png": "[encoded data removed]"
          },
          "metadata": {}
        }
      ]
    },
    {
      "cell_type": "code",
      "source": [
        "#another model"
      ],
      "metadata": {
        "id": "O4MEV95GJ1Kc"
      },
      "execution_count": 312,
      "outputs": []
    },
    {
      "cell_type": "code",
      "source": [
        "weight = 0.3\n",
        "bias = 0.9\n",
        "\n",
        "x = torch.arange(0,100)\n",
        "y = bias + weight*x"
      ],
      "metadata": {
        "id": "nCB8im7QNmEK"
      },
      "execution_count": 313,
      "outputs": []
    },
    {
      "cell_type": "code",
      "source": [
        "x"
      ],
      "metadata": {
        "colab": {
          "base_uri": "https://localhost:8080/"
        },
        "id": "5dqdTcsuN5vm",
        "outputId": "1e50f24b-02a1-4b1e-e848-c4939bb908ff"
      },
      "execution_count": 314,
      "outputs": [
        {
          "output_type": "execute_result",
          "data": {
            "text/plain": [
              "tensor([ 0,  1,  2,  3,  4,  5,  6,  7,  8,  9, 10, 11, 12, 13, 14, 15, 16, 17,\n",
              "        18, 19, 20, 21, 22, 23, 24, 25, 26, 27, 28, 29, 30, 31, 32, 33, 34, 35,\n",
              "        36, 37, 38, 39, 40, 41, 42, 43, 44, 45, 46, 47, 48, 49, 50, 51, 52, 53,\n",
              "        54, 55, 56, 57, 58, 59, 60, 61, 62, 63, 64, 65, 66, 67, 68, 69, 70, 71,\n",
              "        72, 73, 74, 75, 76, 77, 78, 79, 80, 81, 82, 83, 84, 85, 86, 87, 88, 89,\n",
              "        90, 91, 92, 93, 94, 95, 96, 97, 98, 99])"
            ]
          },
          "metadata": {},
          "execution_count": 314
        }
      ]
    },
    {
      "cell_type": "code",
      "source": [
        "y"
      ],
      "metadata": {
        "colab": {
          "base_uri": "https://localhost:8080/"
        },
        "id": "BU-RGEomOJzx",
        "outputId": "2491cdc3-8924-417f-af93-fbb0ca065831"
      },
      "execution_count": 315,
      "outputs": [
        {
          "output_type": "execute_result",
          "data": {
            "text/plain": [
              "tensor([ 0.9000,  1.2000,  1.5000,  1.8000,  2.1000,  2.4000,  2.7000,  3.0000,\n",
              "         3.3000,  3.6000,  3.9000,  4.2000,  4.5000,  4.8000,  5.1000,  5.4000,\n",
              "         5.7000,  6.0000,  6.3000,  6.6000,  6.9000,  7.2000,  7.5000,  7.8000,\n",
              "         8.1000,  8.4000,  8.7000,  9.0000,  9.3000,  9.6000,  9.9000, 10.2000,\n",
              "        10.5000, 10.8000, 11.1000, 11.4000, 11.7000, 12.0000, 12.3000, 12.6000,\n",
              "        12.9000, 13.2000, 13.5000, 13.8000, 14.1000, 14.4000, 14.7000, 15.0000,\n",
              "        15.3000, 15.6000, 15.9000, 16.2000, 16.5000, 16.8000, 17.1000, 17.4000,\n",
              "        17.7000, 18.0000, 18.3000, 18.6000, 18.9000, 19.2000, 19.5000, 19.8000,\n",
              "        20.1000, 20.4000, 20.7000, 21.0000, 21.3000, 21.6000, 21.9000, 22.2000,\n",
              "        22.5000, 22.8000, 23.1000, 23.4000, 23.7000, 24.0000, 24.3000, 24.6000,\n",
              "        24.9000, 25.2000, 25.5000, 25.8000, 26.1000, 26.4000, 26.7000, 27.0000,\n",
              "        27.3000, 27.6000, 27.9000, 28.2000, 28.5000, 28.8000, 29.1000, 29.4000,\n",
              "        29.7000, 30.0000, 30.3000, 30.6000])"
            ]
          },
          "metadata": {},
          "execution_count": 315
        }
      ]
    },
    {
      "cell_type": "code",
      "source": [
        "x.shape , y.shape"
      ],
      "metadata": {
        "colab": {
          "base_uri": "https://localhost:8080/"
        },
        "id": "NlrY3bM2OLb0",
        "outputId": "21fef8b2-ea0a-4317-adf6-587fabd63e83"
      },
      "execution_count": 316,
      "outputs": [
        {
          "output_type": "execute_result",
          "data": {
            "text/plain": [
              "(torch.Size([100]), torch.Size([100]))"
            ]
          },
          "metadata": {},
          "execution_count": 316
        }
      ]
    },
    {
      "cell_type": "code",
      "source": [
        "from sklearn.model_selection import train_test_split\n",
        "x_train , x_test , y_train , y_test = train_test_split(x , y , test_size=0.2)"
      ],
      "metadata": {
        "id": "-iDPli3BOOqH"
      },
      "execution_count": 317,
      "outputs": []
    },
    {
      "cell_type": "code",
      "source": [
        "x_train.shape , y_train.shape , x_test.shape , y_test.shape"
      ],
      "metadata": {
        "colab": {
          "base_uri": "https://localhost:8080/"
        },
        "id": "N5Fc0_B9OfZH",
        "outputId": "5ee12fae-8981-460f-e149-f63a1a1c9a21"
      },
      "execution_count": 318,
      "outputs": [
        {
          "output_type": "execute_result",
          "data": {
            "text/plain": [
              "(torch.Size([80]), torch.Size([80]), torch.Size([20]), torch.Size([20]))"
            ]
          },
          "metadata": {},
          "execution_count": 318
        }
      ]
    },
    {
      "cell_type": "code",
      "source": [
        "def plot_predictions1(a = x_train , b = y_train , c1 = x_test , d = y_test , prediction1 =None):\n",
        "  plt.scatter(a,b,c='b')\n",
        "  plt.scatter(c1,d,c='g')\n",
        "\n",
        "  if prediction1 != None:\n",
        "    plt.scatter(c1 , prediction1 , c='r')"
      ],
      "metadata": {
        "id": "TYGh_c0vOjrj"
      },
      "execution_count": 319,
      "outputs": []
    },
    {
      "cell_type": "code",
      "source": [
        "plot_predictions1()"
      ],
      "metadata": {
        "colab": {
          "base_uri": "https://localhost:8080/",
          "height": 430
        },
        "id": "cbt23ygSP3qJ",
        "outputId": "434cb8f3-aa10-40a7-9a60-a1fad88237e6"
      },
      "execution_count": 320,
      "outputs": [
        {
          "output_type": "display_data",
          "data": {
            "text/plain": [
              "<Figure size 640x480 with 1 Axes>"
            ],
            "image/png": "[encoded data removed]"
          },
          "metadata": {}
        }
      ]
    },
    {
      "cell_type": "code",
      "source": [
        "class LinearRegressionModel1(nn.Module):\n",
        "  def __init__(self):\n",
        "    super().__init__()\n",
        "    torch.manual_seed(42)\n",
        "    self.weights = nn.Parameter(torch.randn(1,dtype=float),requires_grad=True)\n",
        "    self.bias = nn.Parameter(torch.randn(1,dtype=float),requires_grad =True)\n",
        "\n",
        "  def forward(self , x:torch.Tensor) -> torch.Tensor:\n",
        "    return self.bias + self.weights * x\n",
        "\n",
        "model1 = LinearRegressionModel1()"
      ],
      "metadata": {
        "id": "IigrCPXcPtGX"
      },
      "execution_count": 321,
      "outputs": []
    },
    {
      "cell_type": "code",
      "source": [
        "model1.state_dict()"
      ],
      "metadata": {
        "colab": {
          "base_uri": "https://localhost:8080/"
        },
        "id": "aTzqSIQ7QTc0",
        "outputId": "2fa8fc3c-1b15-4a64-a8c3-500c7e4bf1f7"
      },
      "execution_count": 322,
      "outputs": [
        {
          "output_type": "execute_result",
          "data": {
            "text/plain": [
              "OrderedDict([('weights', tensor([0.3367], dtype=torch.float64)),\n",
              "             ('bias', tensor([0.1288], dtype=torch.float64))])"
            ]
          },
          "metadata": {},
          "execution_count": 322
        }
      ]
    },
    {
      "cell_type": "code",
      "source": [
        "with torch.inference_mode():\n",
        "  y_pred = model1(x_test)\n",
        "\n",
        "y_pred"
      ],
      "metadata": {
        "colab": {
          "base_uri": "https://localhost:8080/"
        },
        "id": "72L0zyghQ-fP",
        "outputId": "a5093d68-787f-4ab5-ff16-fff9281502b7"
      },
      "execution_count": 323,
      "outputs": [
        {
          "output_type": "execute_result",
          "data": {
            "text/plain": [
              "tensor([ 5.8525,  3.8324,  1.1389,  7.1993,  1.8123,  4.8425, 24.3705,  8.2094,\n",
              "         6.8626, 12.9230, 21.3403, 26.3907, 27.7374, 22.6871, 18.3101, 31.7777,\n",
              "        10.5662, 33.1245, 10.2295, 13.2597], dtype=torch.float64)"
            ]
          },
          "metadata": {},
          "execution_count": 323
        }
      ]
    },
    {
      "cell_type": "code",
      "source": [
        "lossfn = nn.L1Loss() #absolute loss\n",
        "optimiser = torch.optim.SGD(params=model1.parameters(),lr=0.0001)"
      ],
      "metadata": {
        "id": "7W_yY3BMRTAK"
      },
      "execution_count": 324,
      "outputs": []
    },
    {
      "cell_type": "code",
      "source": [
        "epoch = 300\n",
        "\n",
        "for i in range(epoch):\n",
        "  model1.train()\n",
        "\n",
        "  y_pred = model1(x_train)\n",
        "\n",
        "  loss = lossfn(y_pred , y_train)\n",
        "\n",
        "  optimiser.zero_grad()\n",
        "\n",
        "  loss.backward()\n",
        "\n",
        "  optimiser.step()\n",
        "\n",
        "  model1.eval()\n",
        "\n",
        "  with torch.inference_mode():\n",
        "    test_pred = model1(x_test)\n",
        "\n",
        "    test_loss = lossfn(test_pred , y_test)\n",
        "\n",
        "    if i % 20 == 0:\n",
        "      print(f\"Epoch : {i} | Train Loss : {loss} | Test Loss : {test_loss}\")"
      ],
      "metadata": {
        "colab": {
          "base_uri": "https://localhost:8080/"
        },
        "id": "NHLpC6yiRlml",
        "outputId": "a3a68dc0-6f88-4e2b-b472-bff9a196c4a6"
      },
      "execution_count": 325,
      "outputs": [
        {
          "output_type": "stream",
          "name": "stdout",
          "text": [
            "Epoch : 0 | Train Loss : 1.2649250911036234 | Test Loss : 0.8531125122813329\n",
            "Epoch : 20 | Train Loss : 0.30740580924457267 | Test Loss : 0.3783535451133551\n",
            "Epoch : 40 | Train Loss : 0.30708659049457254 | Test Loss : 0.37795317011335533\n",
            "Epoch : 60 | Train Loss : 0.3067673717445728 | Test Loss : 0.37755279511335516\n",
            "Epoch : 80 | Train Loss : 0.3064481529945726 | Test Loss : 0.3771524201133546\n",
            "Epoch : 100 | Train Loss : 0.3061289342445729 | Test Loss : 0.37675204511335464\n",
            "Epoch : 120 | Train Loss : 0.30580971549457264 | Test Loss : 0.3763516701133543\n",
            "Epoch : 140 | Train Loss : 0.30549049674457207 | Test Loss : 0.3759512951133545\n",
            "Epoch : 160 | Train Loss : 0.3051712779945724 | Test Loss : 0.37555092011335456\n",
            "Epoch : 180 | Train Loss : 0.30485205924457226 | Test Loss : 0.375150545113354\n",
            "Epoch : 200 | Train Loss : 0.30453284049457235 | Test Loss : 0.37475017011335354\n",
            "Epoch : 220 | Train Loss : 0.3042136217445722 | Test Loss : 0.37434979511335353\n",
            "Epoch : 240 | Train Loss : 0.3039263079082925 | Test Loss : 0.37394779511335347\n",
            "Epoch : 260 | Train Loss : 0.3036262678314845 | Test Loss : 0.3736624201133533\n",
            "Epoch : 280 | Train Loss : 0.3032720592445718 | Test Loss : 0.3732620451133536\n"
          ]
        }
      ]
    },
    {
      "cell_type": "code",
      "source": [
        "model1.state_dict()"
      ],
      "metadata": {
        "colab": {
          "base_uri": "https://localhost:8080/"
        },
        "id": "0lFsyqu0Srm7",
        "outputId": "86019d37-1d73-4a37-dba1-212bc5da4f3f"
      },
      "execution_count": 326,
      "outputs": [
        {
          "output_type": "execute_result",
          "data": {
            "text/plain": [
              "OrderedDict([('weights', tensor([0.3107], dtype=torch.float64)),\n",
              "             ('bias', tensor([0.1403], dtype=torch.float64))])"
            ]
          },
          "metadata": {},
          "execution_count": 326
        }
      ]
    },
    {
      "cell_type": "code",
      "source": [
        "plot_predictions1(prediction1 = test_pred)"
      ],
      "metadata": {
        "colab": {
          "base_uri": "https://localhost:8080/",
          "height": 430
        },
        "id": "oEOsWJqqTP5d",
        "outputId": "8f5c17c7-fafd-421d-80b5-dd127b9cebe7"
      },
      "execution_count": 327,
      "outputs": [
        {
          "output_type": "display_data",
          "data": {
            "text/plain": [
              "<Figure size 640x480 with 1 Axes>"
            ],
            "image/png": "[encoded data removed]"
          },
          "metadata": {}
        }
      ]
    },
    {
      "cell_type": "code",
      "source": [],
      "metadata": {
        "id": "Tm_91x0ATcih"
      },
      "execution_count": 327,
      "outputs": []
    }
  ]
}